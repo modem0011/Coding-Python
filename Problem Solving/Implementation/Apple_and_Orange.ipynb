{
  "nbformat": 4,
  "nbformat_minor": 0,
  "metadata": {
    "colab": {
      "name": "Apple and Orange.ipynb",
      "provenance": [],
      "authorship_tag": "ABX9TyP14tNGKPv+aHgapRKqPkTs",
      "include_colab_link": true
    },
    "kernelspec": {
      "name": "python3",
      "display_name": "Python 3"
    }
  },
  "cells": [
    {
      "cell_type": "markdown",
      "metadata": {
        "id": "view-in-github",
        "colab_type": "text"
      },
      "source": [
        "<a href=\"https://colab.research.google.com/github/modem0011/Coding-Python/blob/master/Problem%20Solving/Implementation/Apple_and_Orange.ipynb\" target=\"_parent\"><img src=\"https://colab.research.google.com/assets/colab-badge.svg\" alt=\"Open In Colab\"/></a>"
      ]
    },
    {
      "cell_type": "code",
      "metadata": {
        "id": "57lUEdkW5Dom",
        "colab_type": "code",
        "colab": {}
      },
      "source": [
        "s,t=list(map(int,input().split(\" \")))\n",
        "a,b=list(map(int,input().split(\" \")))\n",
        "m,n=list(map(int,input().split(\" \")))\n",
        "x=list(map(int,input().split(\" \")))\n",
        "y=list(map(int,input().split(\" \")))\n",
        "\n",
        "count=0\n",
        "for i in x:\n",
        "    if i+a >=s and i+a<=t:\n",
        "        count=count+1\n",
        "count1=0\n",
        "for i in y:\n",
        "    if i<=0:\n",
        "        if b+i<=t and b+i>=s:\n",
        "            count1=count1+1        \n",
        "print(count)\n",
        "print(count1)"
      ],
      "execution_count": null,
      "outputs": []
    }
  ]
}