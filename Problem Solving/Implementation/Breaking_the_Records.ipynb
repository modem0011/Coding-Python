{
  "nbformat": 4,
  "nbformat_minor": 0,
  "metadata": {
    "colab": {
      "name": "Breaking the Records.ipynb",
      "provenance": [],
      "authorship_tag": "ABX9TyN6U9aLaQwKcv+DT9S3UuUr",
      "include_colab_link": true
    },
    "kernelspec": {
      "name": "python3",
      "display_name": "Python 3"
    }
  },
  "cells": [
    {
      "cell_type": "markdown",
      "metadata": {
        "id": "view-in-github",
        "colab_type": "text"
      },
      "source": [
        "<a href=\"https://colab.research.google.com/github/modem0011/Coding-Python/blob/master/Problem%20Solving/Implementation/Breaking_the_Records.ipynb\" target=\"_parent\"><img src=\"https://colab.research.google.com/assets/colab-badge.svg\" alt=\"Open In Colab\"/></a>"
      ]
    },
    {
      "cell_type": "code",
      "metadata": {
        "id": "IeEd0DxlF12y",
        "colab_type": "code",
        "colab": {}
      },
      "source": [
        "a=int(input())\n",
        "b=list(map(int,input().split(\" \")))\n",
        "s=b[0]\n",
        "k=b[0]\n",
        "count=0\n",
        "count1=0\n",
        "for i in range(1,len(b)):\n",
        "    if b[i]>s:\n",
        "        count+=1\n",
        "        s=b[i]\n",
        "    elif b[i]<k:\n",
        "        count1+=1\n",
        "        k=b[i]\n",
        "    else:\n",
        "        pass\n",
        "\n",
        "print(count,count1)    "
      ],
      "execution_count": null,
      "outputs": []
    }
  ]
}