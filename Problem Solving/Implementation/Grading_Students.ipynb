{
  "nbformat": 4,
  "nbformat_minor": 0,
  "metadata": {
    "colab": {
      "name": "Grading Students.ipynb",
      "provenance": [],
      "authorship_tag": "ABX9TyNTFB1pZGD4O7dBRRhDBzdc",
      "include_colab_link": true
    },
    "kernelspec": {
      "name": "python3",
      "display_name": "Python 3"
    }
  },
  "cells": [
    {
      "cell_type": "markdown",
      "metadata": {
        "id": "view-in-github",
        "colab_type": "text"
      },
      "source": [
        "<a href=\"https://colab.research.google.com/github/modem0011/Coding-Python/blob/master/Problem%20Solving/Implementation/Grading_Students.ipynb\" target=\"_parent\"><img src=\"https://colab.research.google.com/assets/colab-badge.svg\" alt=\"Open In Colab\"/></a>"
      ]
    },
    {
      "cell_type": "code",
      "metadata": {
        "id": "9SrzTs3V4gIn",
        "colab_type": "code",
        "colab": {
          "base_uri": "https://localhost:8080/",
          "height": 204
        },
        "outputId": "fa3741ef-3de4-47a3-c5d5-18e279191904"
      },
      "source": [
        "a=int(input())\n",
        "k=[]\n",
        "for i in range(a):\n",
        "    b=int(input())\n",
        "    k.append(b)\n",
        "\n",
        "for i in k:\n",
        "    if i%5==0 and i>=38:\n",
        "        print(i)\n",
        "    elif i>=38 and i%5!=0:\n",
        "        v=(i//5)+1\n",
        "        s=v*5\n",
        "        if s-i<3:\n",
        "            print(s)\n",
        "        else:\n",
        "            print(i)    \n",
        "    else:\n",
        "        print(i)\n"
      ],
      "execution_count": 1,
      "outputs": [
        {
          "output_type": "stream",
          "text": [
            "5\n",
            "32\n",
            "35\n",
            "67\n",
            "86\n",
            "38\n",
            "32\n",
            "35\n",
            "67\n",
            "86\n",
            "40\n"
          ],
          "name": "stdout"
        }
      ]
    },
    {
      "cell_type": "code",
      "metadata": {
        "id": "Jivbn8yN41qd",
        "colab_type": "code",
        "colab": {}
      },
      "source": [
        ""
      ],
      "execution_count": null,
      "outputs": []
    }
  ]
}