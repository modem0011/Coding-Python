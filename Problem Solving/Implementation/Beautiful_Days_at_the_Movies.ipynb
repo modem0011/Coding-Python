{
  "nbformat": 4,
  "nbformat_minor": 0,
  "metadata": {
    "colab": {
      "name": "Beautiful Days at the Movies.ipynb",
      "provenance": [],
      "authorship_tag": "ABX9TyMM0b3JX6d7Iac/W3pNOnNE",
      "include_colab_link": true
    },
    "kernelspec": {
      "name": "python3",
      "display_name": "Python 3"
    }
  },
  "cells": [
    {
      "cell_type": "markdown",
      "metadata": {
        "id": "view-in-github",
        "colab_type": "text"
      },
      "source": [
        "<a href=\"https://colab.research.google.com/github/modem0011/Coding-Python/blob/master/Problem%20Solving/Implementation/Beautiful_Days_at_the_Movies.ipynb\" target=\"_parent\"><img src=\"https://colab.research.google.com/assets/colab-badge.svg\" alt=\"Open In Colab\"/></a>"
      ]
    },
    {
      "cell_type": "code",
      "metadata": {
        "id": "N92e12QxGMTk",
        "colab_type": "code",
        "colab": {}
      },
      "source": [
        "s=list(map(int,input().split(\" \")))\n",
        "count=0\n",
        "for i in range(s[0],s[1]+1):\n",
        "   a=str(i)\n",
        "   a=a[::-1]\n",
        "   \n",
        "   b=int(a)\n",
        "   c=i-b\n",
        "   if c<0:\n",
        "    c=-c\n",
        "   else:\n",
        "    c=c\n",
        "   if c/s[2] == c//s[2]:\n",
        "    count=count+1  \n",
        "\n",
        "print(count)"
      ],
      "execution_count": null,
      "outputs": []
    }
  ]
}