{
  "nbformat": 4,
  "nbformat_minor": 0,
  "metadata": {
    "colab": {
      "name": "Kangaroo.ipynb",
      "provenance": [],
      "authorship_tag": "ABX9TyOWh8MTjniJbOJ4razcEAcW",
      "include_colab_link": true
    },
    "kernelspec": {
      "name": "python3",
      "display_name": "Python 3"
    }
  },
  "cells": [
    {
      "cell_type": "markdown",
      "metadata": {
        "id": "view-in-github",
        "colab_type": "text"
      },
      "source": [
        "<a href=\"https://colab.research.google.com/github/modem0011/Coding-Python/blob/master/Problem%20Solving/Implementation/Kangaroo.ipynb\" target=\"_parent\"><img src=\"https://colab.research.google.com/assets/colab-badge.svg\" alt=\"Open In Colab\"/></a>"
      ]
    },
    {
      "cell_type": "code",
      "metadata": {
        "id": "bAyUOhWi9ga-",
        "colab_type": "code",
        "colab": {}
      },
      "source": [
        "x1,v1,x2,v2=list(map(int,input().split(\" \")))\n",
        "\n",
        "if x1>x2 and v1>=v2:\n",
        "    print(\"NO\")\n",
        "elif x1<x2 and v1<=v2:\n",
        "    print(\"NO\")  \n",
        "elif (x1-x2)/(v2-v1) == (x1-x2)//(v2-v1):\n",
        "    print(\"YES\")\n",
        "else:\n",
        "    print(\"NO\")"
      ],
      "execution_count": null,
      "outputs": []
    }
  ]
}