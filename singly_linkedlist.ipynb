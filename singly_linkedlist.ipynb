{
  "nbformat": 4,
  "nbformat_minor": 0,
  "metadata": {
    "colab": {
      "name": "singly linkedlist.ipynb",
      "provenance": [],
      "authorship_tag": "ABX9TyPBCNf/bVFWiqIELT6r6Ji7",
      "include_colab_link": true
    },
    "kernelspec": {
      "name": "python3",
      "display_name": "Python 3"
    }
  },
  "cells": [
    {
      "cell_type": "markdown",
      "metadata": {
        "id": "view-in-github",
        "colab_type": "text"
      },
      "source": [
        "<a href=\"https://colab.research.google.com/github/modem0011/Coding-Python/blob/master/singly_linkedlist.ipynb\" target=\"_parent\"><img src=\"https://colab.research.google.com/assets/colab-badge.svg\" alt=\"Open In Colab\"/></a>"
      ]
    },
    {
      "cell_type": "markdown",
      "metadata": {
        "id": "-ly3RRC-iY0N",
        "colab_type": "text"
      },
      "source": [
        "# **Singly Linked list**"
      ]
    },
    {
      "cell_type": "code",
      "metadata": {
        "id": "CQGmN54hhX7I",
        "colab_type": "code",
        "colab": {}
      },
      "source": [
        "class node:\n",
        "  def __init__(self,data):\n",
        "    self.data=data\n",
        "    self.next=None\n",
        "class linked_list:\n",
        "  def __init__(self):\n",
        "    self.head=None\n",
        "  def insert(self,newnode):\n",
        "    if self.head==None:\n",
        "      self.head=newnode\n",
        "    else:\n",
        "      a=self.head\n",
        "      while a.next!=None:\n",
        "        a=a.next\n",
        "      a.next=newnode\n",
        "  def insert_beg(self,begnode)    :\n",
        "    if self.head==None:\n",
        "      self.node=begnode\n",
        "    else:\n",
        "      a=self.head\n",
        "      self.head=begnode\n",
        "      begnode.next=a  \n",
        "  def delete(self):\n",
        "    if self.head==None:\n",
        "      print(\"no node exist\")    \n",
        "    else:\n",
        "      a=self.head\n",
        "      while a.next!=None:\n",
        "        prev=a\n",
        "        a=a.next\n",
        "      prev.next=None  \n",
        "\n",
        "  def delbeg(self):\n",
        "      if self.head== None:\n",
        "        print(\"no node\")  \n",
        "      else:\n",
        "       a=self.head\n",
        "       self.head=a.next\n",
        "  def delpos(self,p):\n",
        "    if self.head==None and p==0:\n",
        "      print(\"no node bro\")\n",
        "    elif self.head!=None and p==0:\n",
        "      if self.head== None:\n",
        "        print(\"no node\")  \n",
        "      else:\n",
        "       a=self.head\n",
        "       self.head=a.next\n",
        "    else:\n",
        "      count=0\n",
        "      a=self.head\n",
        "      while count<p-1:   \n",
        "        a=a.next\n",
        "      s=a.next\n",
        "      a.next=s.next  \n",
        "      \n",
        "\n",
        "\n",
        "  def insert_pos(self,n,p)   :\n",
        "    newnode=node(n) \n",
        "    if p==0 and self.head==None:\n",
        "      self.head=newnode\n",
        "    elif self.head!=None and p==0:\n",
        "      a=self.head\n",
        "      self.head=begnode\n",
        "      begnode.next=a \n",
        "    else:\n",
        "      count=0\n",
        "      a=self.head\n",
        "      while count!=p-1:\n",
        "        a=a.next\n",
        "        count=count+1\n",
        "      s=a.next\n",
        "      a.next=newnode\n",
        "      newnode.next=s  \n",
        "  def length(self):\n",
        "    count=0\n",
        "    a=self.head\n",
        "    \n",
        "    while a:\n",
        "      count=count+1\n",
        "      a=a.next\n",
        "    print(count)      \n",
        "  def printf(self):\n",
        "    if self.head==None:\n",
        "      print(\"no node exist\")\n",
        "    else:\n",
        "      a=self.head\n",
        "      while a:\n",
        "        print(a.data)  \n",
        "        a=a.next"
      ],
      "execution_count": 100,
      "outputs": []
    },
    {
      "cell_type": "code",
      "metadata": {
        "id": "7Ww5AjiHitxZ",
        "colab_type": "code",
        "colab": {
          "base_uri": "https://localhost:8080/",
          "height": 153
        },
        "outputId": "44827d00-eb11-4311-e0c9-5520e3a58a59"
      },
      "source": [
        "a=linked_list()\n",
        "b=node(0)\n",
        "c=node(1)\n",
        "d=node(2)\n",
        "e=node(6)\n",
        "f=node(4)\n",
        "g=node(888)\n",
        "h=node(999)\n",
        "a.insert(b)\n",
        "a.insert(c)\n",
        "a.insert(d)\n",
        "a.insert(e)\n",
        "a.insert(f)\n",
        "a.insert_beg(g)\n",
        "a.insert_beg(h)\n",
        "a.insert_pos(\"haha\",1)\n",
        "a.printf()\n"
      ],
      "execution_count": 101,
      "outputs": [
        {
          "output_type": "stream",
          "text": [
            "999\n",
            "haha\n",
            "888\n",
            "0\n",
            "1\n",
            "2\n",
            "6\n",
            "4\n"
          ],
          "name": "stdout"
        }
      ]
    },
    {
      "cell_type": "code",
      "metadata": {
        "id": "5QDU3cQsj24I",
        "colab_type": "code",
        "colab": {
          "base_uri": "https://localhost:8080/",
          "height": 34
        },
        "outputId": "58d7bf7a-b891-40da-f69a-acde882de65a"
      },
      "source": [
        "a.length()"
      ],
      "execution_count": 102,
      "outputs": [
        {
          "output_type": "stream",
          "text": [
            "8\n"
          ],
          "name": "stdout"
        }
      ]
    },
    {
      "cell_type": "code",
      "metadata": {
        "id": "ivGWiMJMtD8I",
        "colab_type": "code",
        "colab": {}
      },
      "source": [
        ""
      ],
      "execution_count": 93,
      "outputs": []
    },
    {
      "cell_type": "code",
      "metadata": {
        "id": "zFb4-QiDtFoH",
        "colab_type": "code",
        "colab": {}
      },
      "source": [
        "a.delbeg()"
      ],
      "execution_count": 73,
      "outputs": []
    },
    {
      "cell_type": "code",
      "metadata": {
        "id": "1kgKwlCTv40t",
        "colab_type": "code",
        "colab": {
          "base_uri": "https://localhost:8080/",
          "height": 119
        },
        "outputId": "a86e5ca3-fd5e-4b70-9732-afcba44d5b18"
      },
      "source": [
        "a.printf()"
      ],
      "execution_count": 74,
      "outputs": [
        {
          "output_type": "stream",
          "text": [
            "haha\n",
            "888\n",
            "0\n",
            "1\n",
            "2\n",
            "6\n"
          ],
          "name": "stdout"
        }
      ]
    },
    {
      "cell_type": "code",
      "metadata": {
        "id": "nBaeBC9cwEOb",
        "colab_type": "code",
        "colab": {}
      },
      "source": [
        ""
      ],
      "execution_count": null,
      "outputs": []
    }
  ]
}