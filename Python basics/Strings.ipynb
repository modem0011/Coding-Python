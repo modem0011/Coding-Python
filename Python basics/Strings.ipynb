{
  "nbformat": 4,
  "nbformat_minor": 0,
  "metadata": {
    "colab": {
      "name": "Strings.ipynb",
      "provenance": [],
      "authorship_tag": "ABX9TyOEz83LVXqCW0mvkutfPJqS",
      "include_colab_link": true
    },
    "kernelspec": {
      "name": "python3",
      "display_name": "Python 3"
    }
  },
  "cells": [
    {
      "cell_type": "markdown",
      "metadata": {
        "id": "view-in-github",
        "colab_type": "text"
      },
      "source": [
        "<a href=\"https://colab.research.google.com/github/modem0011/Coding-Python/blob/master/Python%20basics/Strings.ipynb\" target=\"_parent\"><img src=\"https://colab.research.google.com/assets/colab-badge.svg\" alt=\"Open In Colab\"/></a>"
      ]
    },
    {
      "cell_type": "code",
      "metadata": {
        "id": "VNNFm5yboEmw",
        "colab_type": "code",
        "colab": {
          "base_uri": "https://localhost:8080/",
          "height": 54
        },
        "outputId": "41cc4635-74f9-4100-c483-b41632e0eca6"
      },
      "source": [
        "def swap_case(s):\n",
        "    p=[]\n",
        "    for i in s:\n",
        "        if i==i.lower():\n",
        "            p.append(i.upper())\n",
        "        else:\n",
        "            p.append(i.lower())    \n",
        "    d=\"\"        \n",
        "    for i in p: \n",
        "        d+=i\n",
        "    return d    \n",
        "\n",
        "if __name__ == '__main__':\n",
        "    s = input()\n",
        "    result = swap_case(s)\n",
        "    print(result)"
      ],
      "execution_count": null,
      "outputs": [
        {
          "output_type": "stream",
          "text": [
            "djdqJNKW D\n",
            "DJDQjnkw d\n"
          ],
          "name": "stdout"
        }
      ]
    },
    {
      "cell_type": "code",
      "metadata": {
        "id": "Ux52BSy0xATy",
        "colab_type": "code",
        "colab": {
          "base_uri": "https://localhost:8080/",
          "height": 54
        },
        "outputId": "cd0d19ab-0fdc-41d7-ea7b-36409955e59e"
      },
      "source": [
        "def split_and_join(line):\n",
        "    b=line.split(\" \")\n",
        "    a=\"-\".join(b)\n",
        "    return a\n",
        "if __name__ == '__main__':\n",
        "    line = input()\n",
        "    result = split_and_join(line)\n",
        "    print(result)"
      ],
      "execution_count": null,
      "outputs": [
        {
          "output_type": "stream",
          "text": [
            "hfjh afuhaf  fufhf afuhf a\n",
            "hfjh-afuhaf--fufhf-afuhf-a\n"
          ],
          "name": "stdout"
        }
      ]
    },
    {
      "cell_type": "code",
      "metadata": {
        "id": "yg8nuEGRzVve",
        "colab_type": "code",
        "colab": {
          "base_uri": "https://localhost:8080/",
          "height": 72
        },
        "outputId": "55ea07ba-c2c0-4e8e-f526-dc6d7f4be951"
      },
      "source": [
        "def print_full_name(a,b):\n",
        "    print(\"Hello\",a,b+\"! You just delved into python.\")\n",
        "if __name__ == '__main__':\n",
        "    first_name = input()\n",
        "    last_name = input()\n",
        "    print_full_name(first_name, last_name)"
      ],
      "execution_count": null,
      "outputs": [
        {
          "output_type": "stream",
          "text": [
            "fdg\n",
            "dfdf\n",
            "Hello fdg dfdf! You just delved into python.\n"
          ],
          "name": "stdout"
        }
      ]
    },
    {
      "cell_type": "code",
      "metadata": {
        "id": "iBXk1-SY0kli",
        "colab_type": "code",
        "colab": {
          "base_uri": "https://localhost:8080/",
          "height": 72
        },
        "outputId": "f9f20560-1838-4e94-b40b-fa1fbdbeb413"
      },
      "source": [
        "def mutate_string(a,b,c):\n",
        "    return a[0:b]+c+a[b+1:]\n",
        "if __name__ == '__main__':\n",
        "    s = input()\n",
        "    i, c = input().split()\n",
        "    s_new = mutate_string(s, int(i), c)\n",
        "    print(s_new)"
      ],
      "execution_count": null,
      "outputs": [
        {
          "output_type": "stream",
          "text": [
            "hdddaha\n",
            "3 f\n",
            "hddfaha\n"
          ],
          "name": "stdout"
        }
      ]
    },
    {
      "cell_type": "code",
      "metadata": {
        "id": "Y82CoxsGOB34",
        "colab_type": "code",
        "colab": {
          "base_uri": "https://localhost:8080/",
          "height": 126
        },
        "outputId": "5462635a-4586-4f7f-d9d9-d70fcc8df0a7"
      },
      "source": [
        "a=input()\n",
        "\n",
        "for i in a:\n",
        "    if i.isalnum():\n",
        "        print(\"True\")\n",
        "        break\n",
        "else:\n",
        "    print(\"False\")\n",
        "\n",
        "\n",
        "\n",
        "for i in a:\n",
        "    if i.isalpha():\n",
        "        print(\"True\")\n",
        "        break\n",
        "else:\n",
        "    print(\"False\")\n",
        "\n",
        "\n",
        "\n",
        "for i in a:\n",
        "    if i.isdigit():\n",
        "        print(\"True\")\n",
        "        break\n",
        "else:\n",
        "    print(\"False\")    \n",
        "\n",
        "    \n",
        "for i in a:\n",
        "    if i.islower():\n",
        "        print(\"True\")\n",
        "        break\n",
        "else:\n",
        "    print(\"False\")    \n",
        "\n",
        "\n",
        "for i in a:\n",
        "    if i.isupper():\n",
        "        print(\"True\")\n",
        "        break\n",
        "else:\n",
        "    print(\"False\")    \n",
        "\n",
        "    \n"
      ],
      "execution_count": null,
      "outputs": [
        {
          "output_type": "stream",
          "text": [
            "sdjda22\n",
            "True\n",
            "True\n",
            "True\n",
            "True\n",
            "False\n"
          ],
          "name": "stdout"
        }
      ]
    },
    {
      "cell_type": "code",
      "metadata": {
        "id": "FKncf4JKgAg1",
        "colab_type": "code",
        "colab": {
          "base_uri": "https://localhost:8080/",
          "height": 102
        },
        "outputId": "b625945d-41be-46b1-99b7-a7492d7b3667"
      },
      "source": [
        "import textwrap\n",
        "def wrap(string,max_width):\n",
        "    a=textwrap.wrap(string,max_width)\n",
        "    b=\"\\n\".join(a)\n",
        "    return b\n",
        "if __name__ == '__main__':\n",
        "    string, max_width = input(), int(input())\n",
        "    result = wrap(string, max_width)\n",
        "    print(result)"
      ],
      "execution_count": 2,
      "outputs": [
        {
          "output_type": "stream",
          "text": [
            "daddff\n",
            "2\n",
            "da\n",
            "dd\n",
            "ff\n"
          ],
          "name": "stdout"
        }
      ]
    },
    {
      "cell_type": "code",
      "metadata": {
        "id": "HPren6TZRzgv",
        "colab_type": "code",
        "colab": {
          "base_uri": "https://localhost:8080/",
          "height": 85
        },
        "outputId": "51aec27a-23ae-41ce-a21a-d9eeb1e4664a"
      },
      "source": [
        "def print_formatted(n):\n",
        "    for i in range(1,n+1):\n",
        "        print(i,\"\",oct(i)[2:],\"\",hex(i)[2:],\"\",bin(i)[2:])\n",
        "\n",
        "if __name__ == '__main__':\n",
        "    n = int(input())\n",
        "    print_formatted(n)"
      ],
      "execution_count": 3,
      "outputs": [
        {
          "output_type": "stream",
          "text": [
            "3\n",
            "1  1  1  1\n",
            "2  2  2  10\n",
            "3  3  3  11\n"
          ],
          "name": "stdout"
        }
      ]
    },
    {
      "cell_type": "code",
      "metadata": {
        "id": "DNbL-gklgL0V",
        "colab_type": "code",
        "colab": {
          "base_uri": "https://localhost:8080/",
          "height": 51
        },
        "outputId": "1303b8e4-8962-4138-b31a-38ccd9e829e2"
      },
      "source": [
        "import os\n",
        "def solve(s):\n",
        "    j=[]\n",
        "    a=s.split(\" \")\n",
        "    for i in a:\n",
        "        v=i.capitalize()\n",
        "        j.append(v)\n",
        "    return \" \".join(j)    \n",
        "\n",
        "if __name__ == '__main__':\n",
        "\n",
        "    s = input()\n",
        "\n",
        "    result = solve(s)\n",
        "    print(result)\n"
      ],
      "execution_count": 7,
      "outputs": [
        {
          "output_type": "stream",
          "text": [
            "modem praveen\n",
            "Modem Praveen\n"
          ],
          "name": "stdout"
        }
      ]
    },
    {
      "cell_type": "code",
      "metadata": {
        "id": "EenWJxmNiDzU",
        "colab_type": "code",
        "colab": {
          "base_uri": "https://localhost:8080/",
          "height": 170
        },
        "outputId": "a48402d3-f805-484a-dc7b-5a60adb4b024"
      },
      "source": [
        "import textwrap \n",
        "\n",
        "def merge_the_tools(string,k):\n",
        "    a=textwrap.wrap(string,k)\n",
        "    for i in a:\n",
        "        b=[]\n",
        "        for j in i:\n",
        "            b.append(j)\n",
        "        c=[]    \n",
        "        for k in b:\n",
        "            if k not in c:\n",
        "                c.append(k) \n",
        "        print(\"\".join(c)) \n",
        "\n",
        "            \n",
        "\n",
        "\n",
        "\n",
        "if __name__ == '__main__':\n",
        "    string, k = input(), int(input())\n",
        "    merge_the_tools(string, k)"
      ],
      "execution_count": 9,
      "outputs": [
        {
          "output_type": "stream",
          "text": [
            "adudajdddacdvddavddad\n",
            "3\n",
            "adu\n",
            "daj\n",
            "d\n",
            "acd\n",
            "vd\n",
            "avd\n",
            "da\n"
          ],
          "name": "stdout"
        }
      ]
    },
    {
      "cell_type": "code",
      "metadata": {
        "id": "5ysHVyz9kra4",
        "colab_type": "code",
        "colab": {}
      },
      "source": [
        ""
      ],
      "execution_count": null,
      "outputs": []
    }
  ]
}