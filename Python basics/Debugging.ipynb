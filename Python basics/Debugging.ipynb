{
  "nbformat": 4,
  "nbformat_minor": 0,
  "metadata": {
    "colab": {
      "name": "Debugging.ipynb",
      "provenance": [],
      "authorship_tag": "ABX9TyNJEeJXwyx27BpkPy3pMeJ8",
      "include_colab_link": true
    },
    "kernelspec": {
      "name": "python3",
      "display_name": "Python 3"
    }
  },
  "cells": [
    {
      "cell_type": "markdown",
      "metadata": {
        "id": "view-in-github",
        "colab_type": "text"
      },
      "source": [
        "<a href=\"https://colab.research.google.com/github/modem0011/Coding-Python/blob/master/Python%20basics/Debugging.ipynb\" target=\"_parent\"><img src=\"https://colab.research.google.com/assets/colab-badge.svg\" alt=\"Open In Colab\"/></a>"
      ]
    },
    {
      "cell_type": "code",
      "metadata": {
        "id": "c_KNx8Ve3qm1",
        "colab_type": "code",
        "colab": {
          "base_uri": "https://localhost:8080/",
          "height": 68
        },
        "outputId": "f5e38806-c7d7-4e6b-c354-a7e0f40dc2a0"
      },
      "source": [
        "def is_vowel(letter):\n",
        "    return letter in ['a', 'e', 'i', 'o', 'u', 'y']\n",
        "\n",
        "def score_words(words):\n",
        "    score = 0\n",
        "    for word in words:\n",
        "        num_vowels = 0\n",
        "        for letter in word:\n",
        "            if is_vowel(letter):\n",
        "                num_vowels += 1\n",
        "        if num_vowels % 2 == 0:\n",
        "            score += 2\n",
        "        else:\n",
        "            score+=1\n",
        "    return score\n",
        "\n",
        "\n",
        "n = int(input())\n",
        "words = input().split()\n",
        "print(score_words(words))"
      ],
      "execution_count": 3,
      "outputs": [
        {
          "output_type": "stream",
          "text": [
            "3\n",
            "da sv da\n",
            "4\n"
          ],
          "name": "stdout"
        }
      ]
    },
    {
      "cell_type": "code",
      "metadata": {
        "id": "a8p7rS6-307i",
        "colab_type": "code",
        "colab": {
          "base_uri": "https://localhost:8080/",
          "height": 136
        },
        "outputId": "e1f06b72-9f21-45e2-bbab-e690ea65583c"
      },
      "source": [
        "class EvenStream(object):\n",
        "    def __init__(self):\n",
        "        self.current = 0\n",
        "\n",
        "    def get_next(self):\n",
        "        to_return = self.current\n",
        "        self.current += 2\n",
        "        return to_return\n",
        "\n",
        "class OddStream(object):\n",
        "    def __init__(self):\n",
        "        self.current = 1\n",
        "\n",
        "    def get_next(self):\n",
        "        to_return = self.current\n",
        "        self.current += 2\n",
        "        return to_return\n",
        "stream=EvenStream()\n",
        "def print_from_stream(n, stream=None):\n",
        "    if stream==None:\n",
        "        stream=EvenStream()\n",
        "        for _ in range(n):\n",
        "            print(stream.get_next())\n",
        "    else:\n",
        "        for _ in range(n):\n",
        "            print(stream.get_next())        \n",
        "\n",
        "\n",
        "\n",
        "queries = int(input())\n",
        "for _ in range(queries):\n",
        "    stream_name, n = input().split()\n",
        "    n = int(n)\n",
        "    if stream_name == \"even\":\n",
        "        print_from_stream(n)\n",
        "    else:\n",
        "        print_from_stream(n, OddStream())\n"
      ],
      "execution_count": 7,
      "outputs": [
        {
          "output_type": "stream",
          "text": [
            "2\n",
            "afdf 1\n",
            "1\n",
            "adfad 3\n",
            "1\n",
            "3\n",
            "5\n"
          ],
          "name": "stdout"
        }
      ]
    },
    {
      "cell_type": "code",
      "metadata": {
        "id": "1z-Jyk-34Mfj",
        "colab_type": "code",
        "colab": {}
      },
      "source": [
        ""
      ],
      "execution_count": null,
      "outputs": []
    }
  ]
}