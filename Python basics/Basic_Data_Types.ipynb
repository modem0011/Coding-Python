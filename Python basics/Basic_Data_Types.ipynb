{
  "nbformat": 4,
  "nbformat_minor": 0,
  "metadata": {
    "colab": {
      "name": "Basic Data Types.ipynb",
      "provenance": [],
      "authorship_tag": "ABX9TyPn1JnhBoUbkqXu7isIVTJo",
      "include_colab_link": true
    },
    "kernelspec": {
      "name": "python3",
      "display_name": "Python 3"
    }
  },
  "cells": [
    {
      "cell_type": "markdown",
      "metadata": {
        "id": "view-in-github",
        "colab_type": "text"
      },
      "source": [
        "<a href=\"https://colab.research.google.com/github/modem0011/Coding-Python/blob/master/Python%20basics/Basic_Data_Types.ipynb\" target=\"_parent\"><img src=\"https://colab.research.google.com/assets/colab-badge.svg\" alt=\"Open In Colab\"/></a>"
      ]
    },
    {
      "cell_type": "code",
      "metadata": {
        "id": "8R9hLbfP9Aic",
        "colab_type": "code",
        "colab": {
          "base_uri": "https://localhost:8080/",
          "height": 122
        },
        "outputId": "1e7562ae-087f-475f-a826-f34d66f9ca7a"
      },
      "source": [
        "x=int(input())\n",
        "y=int(input())\n",
        "z=int(input())\n",
        "n=int(input())\n",
        "s=[]\n",
        "\n",
        "for i in range(x+1):\n",
        "    for j in range(y+1):\n",
        "        for k in range(z+1):\n",
        "            if i+j+k != n:\n",
        "                a=[]\n",
        "                a.append(i)\n",
        "                a.append(j)\n",
        "                a.append(k)\n",
        "                s.append(a)    \n",
        "\n",
        "print(s)            \n"
      ],
      "execution_count": 3,
      "outputs": [
        {
          "output_type": "stream",
          "text": [
            "3\n",
            "4\n",
            "5\n",
            "3\n",
            "[[0, 0, 0], [0, 0, 1], [0, 0, 2], [0, 0, 4], [0, 0, 5], [0, 1, 0], [0, 1, 1], [0, 1, 3], [0, 1, 4], [0, 1, 5], [0, 2, 0], [0, 2, 2], [0, 2, 3], [0, 2, 4], [0, 2, 5], [0, 3, 1], [0, 3, 2], [0, 3, 3], [0, 3, 4], [0, 3, 5], [0, 4, 0], [0, 4, 1], [0, 4, 2], [0, 4, 3], [0, 4, 4], [0, 4, 5], [1, 0, 0], [1, 0, 1], [1, 0, 3], [1, 0, 4], [1, 0, 5], [1, 1, 0], [1, 1, 2], [1, 1, 3], [1, 1, 4], [1, 1, 5], [1, 2, 1], [1, 2, 2], [1, 2, 3], [1, 2, 4], [1, 2, 5], [1, 3, 0], [1, 3, 1], [1, 3, 2], [1, 3, 3], [1, 3, 4], [1, 3, 5], [1, 4, 0], [1, 4, 1], [1, 4, 2], [1, 4, 3], [1, 4, 4], [1, 4, 5], [2, 0, 0], [2, 0, 2], [2, 0, 3], [2, 0, 4], [2, 0, 5], [2, 1, 1], [2, 1, 2], [2, 1, 3], [2, 1, 4], [2, 1, 5], [2, 2, 0], [2, 2, 1], [2, 2, 2], [2, 2, 3], [2, 2, 4], [2, 2, 5], [2, 3, 0], [2, 3, 1], [2, 3, 2], [2, 3, 3], [2, 3, 4], [2, 3, 5], [2, 4, 0], [2, 4, 1], [2, 4, 2], [2, 4, 3], [2, 4, 4], [2, 4, 5], [3, 0, 1], [3, 0, 2], [3, 0, 3], [3, 0, 4], [3, 0, 5], [3, 1, 0], [3, 1, 1], [3, 1, 2], [3, 1, 3], [3, 1, 4], [3, 1, 5], [3, 2, 0], [3, 2, 1], [3, 2, 2], [3, 2, 3], [3, 2, 4], [3, 2, 5], [3, 3, 0], [3, 3, 1], [3, 3, 2], [3, 3, 3], [3, 3, 4], [3, 3, 5], [3, 4, 0], [3, 4, 1], [3, 4, 2], [3, 4, 3], [3, 4, 4], [3, 4, 5]]\n"
          ],
          "name": "stdout"
        }
      ]
    },
    {
      "cell_type": "code",
      "metadata": {
        "id": "u1TlM0SJzrLL",
        "colab_type": "code",
        "colab": {
          "base_uri": "https://localhost:8080/",
          "height": 68
        },
        "outputId": "8c8baf0d-ddff-4cce-f159-d0c2a7bb97d6"
      },
      "source": [
        "a=int(input())\n",
        "b=list(map(int,input().split(\" \")))\n",
        "b=set(b)\n",
        "b=list(b)\n",
        "b.sort()\n",
        "b=b[-2]\n",
        "print(b)"
      ],
      "execution_count": 2,
      "outputs": [
        {
          "output_type": "stream",
          "text": [
            "3\n",
            "4 5 6\n",
            "5\n"
          ],
          "name": "stdout"
        }
      ]
    },
    {
      "cell_type": "code",
      "metadata": {
        "id": "w7dpOVpA3dpu",
        "colab_type": "code",
        "colab": {
          "base_uri": "https://localhost:8080/",
          "height": 119
        },
        "outputId": "98feafc9-e706-43c0-fd0f-f1b2caa96394"
      },
      "source": [
        "a=int(input())\n",
        "s=[]\n",
        "for i in range(a):\n",
        "    d=[]\n",
        "    b=input()\n",
        "    c=float(input())\n",
        "    d.append(b)\n",
        "    d.append(c)\n",
        "    s.append(d)\n",
        "\n",
        "y=[]\n",
        "for i in s:\n",
        "    x=i[1]   \n",
        "    y.append(x) \n",
        "\n",
        "\n",
        "\n",
        "y=set(y)\n",
        "y=list(y)\n",
        "y.sort()    \n",
        "f=[]\n",
        "for i in s:\n",
        "    if y[1]==i[1]:\n",
        "        f.append(i[0])\n",
        "\n",
        "f.sort()        \n",
        "\n",
        "for i in f:\n",
        "    print(i)"
      ],
      "execution_count": 1,
      "outputs": [
        {
          "output_type": "stream",
          "text": [
            "2\n",
            "dd\n",
            "43\n",
            "cc\n",
            "2\n",
            "dd\n"
          ],
          "name": "stdout"
        }
      ]
    },
    {
      "cell_type": "code",
      "metadata": {
        "id": "QTMtmH_nf9Hq",
        "colab_type": "code",
        "colab": {
          "base_uri": "https://localhost:8080/",
          "height": 108
        },
        "outputId": "37e82996-f015-4cf8-da54-cb3a2fb947e1"
      },
      "source": [
        "a=int(input())\n",
        "s=[]\n",
        "for i in range(a):\n",
        "    b=input().split(\" \")\n",
        "    \n",
        "    if b[0]==\"insert\":\n",
        "        s.insert(int(b[1]),int(b[2]))\n",
        "    elif b[0]==\"remove\":\n",
        "        s.remove(int(b[1]))\n",
        "            \n",
        "    elif b[0]==\"append\":\n",
        "        s.append(int(b[1]))\n",
        "    elif b[0]==\"sort\":\n",
        "        s.sort()\n",
        "    elif b[0]==\"pop\":\n",
        "        s.pop()\n",
        "    elif b[0]==\"reverse\":\n",
        "        s.reverse()\n",
        "    elif b[0]==\"print\":\n",
        "        print(s)    \n",
        "\n",
        "\n",
        "    "
      ],
      "execution_count": 2,
      "outputs": [
        {
          "output_type": "stream",
          "text": [
            "3\n",
            "append 3\n",
            "print\n",
            "[3]\n",
            "remove 3\n"
          ],
          "name": "stdout"
        }
      ]
    },
    {
      "cell_type": "code",
      "metadata": {
        "id": "9P33PIi2mfDe",
        "colab_type": "code",
        "colab": {
          "base_uri": "https://localhost:8080/",
          "height": 72
        },
        "outputId": "2a70b064-622e-4416-947d-924b995bf65f"
      },
      "source": [
        "a=int(input())\n",
        "b=tuple(map(int,input().split(\" \")))\n",
        "print(hash(b))"
      ],
      "execution_count": 3,
      "outputs": [
        {
          "output_type": "stream",
          "text": [
            "3\n",
            "2 4 5\n",
            "3789701233997325238\n"
          ],
          "name": "stdout"
        }
      ]
    },
    {
      "cell_type": "code",
      "metadata": {
        "id": "8S7_IeSTnZxT",
        "colab_type": "code",
        "colab": {}
      },
      "source": [
        ""
      ],
      "execution_count": null,
      "outputs": []
    }
  ]
}